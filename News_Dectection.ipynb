{
 "cells": [
  {
   "cell_type": "code",
   "execution_count": 1,
   "metadata": {},
   "outputs": [],
   "source": [
    "import numpy as np \n",
    "import pandas as pd \n",
    "import matplotlib.pyplot as plt\n",
    "import matplotlib\n",
    "matplotlib.style.use('ggplot')\n"
   ]
  },
  {
   "cell_type": "code",
   "execution_count": 2,
   "metadata": {
    "scrolled": true
   },
   "outputs": [
    {
     "data": {
      "text/html": [
       "<div>\n",
       "<style scoped>\n",
       "    .dataframe tbody tr th:only-of-type {\n",
       "        vertical-align: middle;\n",
       "    }\n",
       "\n",
       "    .dataframe tbody tr th {\n",
       "        vertical-align: top;\n",
       "    }\n",
       "\n",
       "    .dataframe thead th {\n",
       "        text-align: right;\n",
       "    }\n",
       "</style>\n",
       "<table border=\"1\" class=\"dataframe\">\n",
       "  <thead>\n",
       "    <tr style=\"text-align: right;\">\n",
       "      <th></th>\n",
       "      <th>title</th>\n",
       "      <th>text</th>\n",
       "      <th>label</th>\n",
       "    </tr>\n",
       "  </thead>\n",
       "  <tbody>\n",
       "    <tr>\n",
       "      <th>0</th>\n",
       "      <td>You Can Smell Hillary’s Fear</td>\n",
       "      <td>Daniel Greenfield, a Shillman Journalism Fello...</td>\n",
       "      <td>FAKE</td>\n",
       "    </tr>\n",
       "    <tr>\n",
       "      <th>1</th>\n",
       "      <td>Watch The Exact Moment Paul Ryan Committed Pol...</td>\n",
       "      <td>Google Pinterest Digg Linkedin Reddit Stumbleu...</td>\n",
       "      <td>FAKE</td>\n",
       "    </tr>\n",
       "    <tr>\n",
       "      <th>2</th>\n",
       "      <td>Kerry to go to Paris in gesture of sympathy</td>\n",
       "      <td>U.S. Secretary of State John F. Kerry said Mon...</td>\n",
       "      <td>REAL</td>\n",
       "    </tr>\n",
       "    <tr>\n",
       "      <th>3</th>\n",
       "      <td>Bernie supporters on Twitter erupt in anger ag...</td>\n",
       "      <td>— Kaydee King (@KaydeeKing) November 9, 2016 T...</td>\n",
       "      <td>FAKE</td>\n",
       "    </tr>\n",
       "    <tr>\n",
       "      <th>4</th>\n",
       "      <td>The Battle of New York: Why This Primary Matters</td>\n",
       "      <td>It's primary day in New York and front-runners...</td>\n",
       "      <td>REAL</td>\n",
       "    </tr>\n",
       "    <tr>\n",
       "      <th>5</th>\n",
       "      <td>Tehran, USA</td>\n",
       "      <td>\\nI’m not an immigrant, but my grandparents ...</td>\n",
       "      <td>FAKE</td>\n",
       "    </tr>\n",
       "    <tr>\n",
       "      <th>6</th>\n",
       "      <td>Girl Horrified At What She Watches Boyfriend D...</td>\n",
       "      <td>Share This Baylee Luciani (left), Screenshot o...</td>\n",
       "      <td>FAKE</td>\n",
       "    </tr>\n",
       "    <tr>\n",
       "      <th>7</th>\n",
       "      <td>‘Britain’s Schindler’ Dies at 106</td>\n",
       "      <td>A Czech stockbroker who saved more than 650 Je...</td>\n",
       "      <td>REAL</td>\n",
       "    </tr>\n",
       "    <tr>\n",
       "      <th>8</th>\n",
       "      <td>Fact check: Trump and Clinton at the 'commande...</td>\n",
       "      <td>Hillary Clinton and Donald Trump made some ina...</td>\n",
       "      <td>REAL</td>\n",
       "    </tr>\n",
       "    <tr>\n",
       "      <th>9</th>\n",
       "      <td>Iran reportedly makes new push for uranium con...</td>\n",
       "      <td>Iranian negotiators reportedly have made a las...</td>\n",
       "      <td>REAL</td>\n",
       "    </tr>\n",
       "  </tbody>\n",
       "</table>\n",
       "</div>"
      ],
      "text/plain": [
       "                                               title  \\\n",
       "0                       You Can Smell Hillary’s Fear   \n",
       "1  Watch The Exact Moment Paul Ryan Committed Pol...   \n",
       "2        Kerry to go to Paris in gesture of sympathy   \n",
       "3  Bernie supporters on Twitter erupt in anger ag...   \n",
       "4   The Battle of New York: Why This Primary Matters   \n",
       "5                                        Tehran, USA   \n",
       "6  Girl Horrified At What She Watches Boyfriend D...   \n",
       "7                  ‘Britain’s Schindler’ Dies at 106   \n",
       "8  Fact check: Trump and Clinton at the 'commande...   \n",
       "9  Iran reportedly makes new push for uranium con...   \n",
       "\n",
       "                                                text label  \n",
       "0  Daniel Greenfield, a Shillman Journalism Fello...  FAKE  \n",
       "1  Google Pinterest Digg Linkedin Reddit Stumbleu...  FAKE  \n",
       "2  U.S. Secretary of State John F. Kerry said Mon...  REAL  \n",
       "3  — Kaydee King (@KaydeeKing) November 9, 2016 T...  FAKE  \n",
       "4  It's primary day in New York and front-runners...  REAL  \n",
       "5    \\nI’m not an immigrant, but my grandparents ...  FAKE  \n",
       "6  Share This Baylee Luciani (left), Screenshot o...  FAKE  \n",
       "7  A Czech stockbroker who saved more than 650 Je...  REAL  \n",
       "8  Hillary Clinton and Donald Trump made some ina...  REAL  \n",
       "9  Iranian negotiators reportedly have made a las...  REAL  "
      ]
     },
     "execution_count": 2,
     "metadata": {},
     "output_type": "execute_result"
    }
   ],
   "source": [
    "fake_news = pd.read_csv(\"fake_or_real_news.csv\",index_col=\"Unnamed: 0\") #data set\n",
    "fake_news = fake_news.reset_index(drop=True)\n",
    "fake_news.head(10)"
   ]
  },
  {
   "cell_type": "code",
   "execution_count": 3,
   "metadata": {},
   "outputs": [
    {
     "data": {
      "text/plain": [
       "label\n",
       "FAKE    3164\n",
       "REAL    3171\n",
       "Name: text, dtype: int64"
      ]
     },
     "execution_count": 3,
     "metadata": {},
     "output_type": "execute_result"
    }
   ],
   "source": [
    "fake_news.groupby(['label'])['text'].count()"
   ]
  },
  {
   "cell_type": "code",
   "execution_count": 4,
   "metadata": {},
   "outputs": [
    {
     "data": {
      "text/html": [
       "<div>\n",
       "<style scoped>\n",
       "    .dataframe tbody tr th:only-of-type {\n",
       "        vertical-align: middle;\n",
       "    }\n",
       "\n",
       "    .dataframe tbody tr th {\n",
       "        vertical-align: top;\n",
       "    }\n",
       "\n",
       "    .dataframe thead th {\n",
       "        text-align: right;\n",
       "    }\n",
       "</style>\n",
       "<table border=\"1\" class=\"dataframe\">\n",
       "  <thead>\n",
       "    <tr style=\"text-align: right;\">\n",
       "      <th></th>\n",
       "      <th>title</th>\n",
       "      <th>text</th>\n",
       "      <th>label</th>\n",
       "    </tr>\n",
       "  </thead>\n",
       "  <tbody>\n",
       "    <tr>\n",
       "      <th>0</th>\n",
       "      <td>You Can Smell Hillary’s Fear</td>\n",
       "      <td>Daniel Greenfield, a Shillman Journalism Fello...</td>\n",
       "      <td>0</td>\n",
       "    </tr>\n",
       "    <tr>\n",
       "      <th>1</th>\n",
       "      <td>Watch The Exact Moment Paul Ryan Committed Pol...</td>\n",
       "      <td>Google Pinterest Digg Linkedin Reddit Stumbleu...</td>\n",
       "      <td>0</td>\n",
       "    </tr>\n",
       "    <tr>\n",
       "      <th>2</th>\n",
       "      <td>Kerry to go to Paris in gesture of sympathy</td>\n",
       "      <td>U.S. Secretary of State John F. Kerry said Mon...</td>\n",
       "      <td>1</td>\n",
       "    </tr>\n",
       "    <tr>\n",
       "      <th>3</th>\n",
       "      <td>Bernie supporters on Twitter erupt in anger ag...</td>\n",
       "      <td>— Kaydee King (@KaydeeKing) November 9, 2016 T...</td>\n",
       "      <td>0</td>\n",
       "    </tr>\n",
       "    <tr>\n",
       "      <th>4</th>\n",
       "      <td>The Battle of New York: Why This Primary Matters</td>\n",
       "      <td>It's primary day in New York and front-runners...</td>\n",
       "      <td>1</td>\n",
       "    </tr>\n",
       "  </tbody>\n",
       "</table>\n",
       "</div>"
      ],
      "text/plain": [
       "                                               title  \\\n",
       "0                       You Can Smell Hillary’s Fear   \n",
       "1  Watch The Exact Moment Paul Ryan Committed Pol...   \n",
       "2        Kerry to go to Paris in gesture of sympathy   \n",
       "3  Bernie supporters on Twitter erupt in anger ag...   \n",
       "4   The Battle of New York: Why This Primary Matters   \n",
       "\n",
       "                                                text  label  \n",
       "0  Daniel Greenfield, a Shillman Journalism Fello...      0  \n",
       "1  Google Pinterest Digg Linkedin Reddit Stumbleu...      0  \n",
       "2  U.S. Secretary of State John F. Kerry said Mon...      1  \n",
       "3  — Kaydee King (@KaydeeKing) November 9, 2016 T...      0  \n",
       "4  It's primary day in New York and front-runners...      1  "
      ]
     },
     "execution_count": 4,
     "metadata": {},
     "output_type": "execute_result"
    }
   ],
   "source": [
    "fake_news['label'] = fake_news['label'].map({'FAKE': 0, 'REAL': 1})\n",
    "fake_news.head()"
   ]
  },
  {
   "cell_type": "code",
   "execution_count": 5,
   "metadata": {},
   "outputs": [
    {
     "data": {
      "image/png": "[encoded data removed]",
      "text/plain": [
       "<Figure size 432x288 with 1 Axes>"
      ]
     },
     "metadata": {
      "needs_background": "light"
     },
     "output_type": "display_data"
    }
   ],
   "source": [
    "\n",
    "from matplotlib import pyplot as plt\n",
    "x=[-1,1]\n",
    "y=[3164, 3171]\n",
    "\n",
    "plt.bar(x,y)\n",
    "plt.xlabel('type of sentiment')\n",
    "plt.ylabel('count')\n",
    "plt.title('number of fake and true news')\n",
    "plt.show()"
   ]
  },
  {
   "cell_type": "code",
   "execution_count": 19,
   "metadata": {},
   "outputs": [],
   "source": [
    "\n",
    "df = pd.DataFrame()\n",
    "df[\"text\"] = fake_news['title'].map(str)+ \" \" + fake_news['text']\n",
    "df['label'] = fake_news['label']\n",
    "\n",
    "\n",
    "df['text'] = df['text'].str.lower()\n",
    "only_text = pd.DataFrame()\n",
    "only_text = df['text']\n"
   ]
  },
  {
   "cell_type": "code",
   "execution_count": 20,
   "metadata": {
    "scrolled": true
   },
   "outputs": [
    {
     "data": {
      "text/plain": [
       "'senate majority leaders main goal gop dont scary mitch mcconnell unusual admonition republican majority takes senate week dont scary incoming senate majority leader political goal next years overseeing functioning reasonable majority capitol hill scores measured conservative wins particularly environmental regulations probably victories full repeal healthcare law mcconnells priority stage potential presidential victory  dont want american people think republican president republican congress thats going scary outcome want american people comfortable fact republican house senate responsible governing majority kentucky republican said broad interview christmas capitol office its defiant declaration  single important goal make president obama oneterm president antagonizing oath democrats frequently invoke embarrass leader obama reelection comfortably  mcconnells party lost seats charge ends capitol republicans avoid worst excesses past four years make sure public isnt fearful gops course there would nothing frightening adding republican president governing majority mcconnell said explaining wants voters view party  election think thats single best thing mess playing field will whoever nominee ultimately is mcconnell become majority leader tuesday planning avoid conflict altogether wants annual spending bills compel obama accept conservative policy riders divide democrats similar december spending bills inclusion provision benefiting wall street firms involved risky derivative trades rider brought liberal outcry torpedoing bill obamas support mcconnell coaching members understand that initial rounds almost unanimously support budget outline spending bills democrats support policy riders republicans caucus mcconnell knows hes long getting votes override obama veto wont even easy getting democrats regularly support legislation overcome likely filibusters incoming minority leader sen harry reid dnev still issues energy taxes health industry mcconnell thinks theres enough bipartisan support bills onto obamas desk theyd like relevant theyd like part process said discussions rankandfile democrats assuming issues largely unified conference dont expect everything wouldnt take whole democrats actually pass legislation senate mcconnell said craving grand deal measure next years lower expectations hes skeptical bargains democrats tough issues immigration entitlement reform instead believes three issues potential common ground international trade deals overhaul code revenue streams infrastructure projects could country more bet theres overcome reluctant president something ly large mcconnell said best bigger issues force obama break veto clear democratic policy stances republicans campaign  democrats dubious mcconnells pledge avert moments believe problems bedeviled house speaker john boehner rohio past four years including inability corral rabblerousers sen cruz rtex support agenda conservative critics probably view bold enough challenging obama appeasing farright conservatives lead agenda democrats hope exploit  what senator mcconnell wants people think think results different things said reids spokesman adam jentleson senator mcconnell heads caucus obsessed rigging game working people favor wealthy special interests thats scary fact indeed wont able hide it mcconnells office adorned portrait kentuckys senate majority leader alben barkley whose tenure often marked clashes partys president franklin roosevelt model resembles george mitchell democratic majority leader   without ever shutting government mitchell stared president opposite party george hw bush several liberal victories  budget showdown mitchell also delivered slew legislation bushs desk drew veto helping frame debate  election domestic policy mcconnell recently studied twoterm presidents often vetoed legislation last years office obama issued minor vetoes technical matters largely previously democraticrun senate prevented anything reaching desk opposed mcconnell suggested veto strategy would help clarify issues voters think bureaucracy across board done damage country least like personally take responsibility even decides veto bill restriction regulations mcconnell keenly aware challenges reining impulses fellow republican lawmakers developed eight straight years minority first test come energy debate could begin week mcconnell trying keep side offering amendments related energy issues recent years rankandfile republicans wanted stop senate tracks would threaten amendments related congress gets health care ive asked members restrain themselves said restraint hard come political era particularly small army conservative groups made mission push republicans strident stands even means shutting government risking default national debt mcconnell faced groups firsthand supported  primary challenger faced grinding general election democrat well financed cost nearly million campaign chest tens millions dollars outside groups winning races handily mcconnell delivering message republicans behave heading  dont reinvent yourself yourself number one dont afraid primary primaries   mcconnell said shortly election fall mcconnell obama rare oneonone meeting oval office huddle sides kept largely secret prechristmas interview mcconnell acknowledged meetings purpose discuss areas president republicans might find bipartisan agreement disagreements issues intractable meeting said focused trade deals code overhaul infrastructure funding can reform trade said eschewed idea holding debt ceiling hostage gain spendingcut concessions obama tool republicans minority majority pass budget determine much were going spend said avoiding moments could make less scary congress giving republicans better chance  trifecta gain white house horse already chosen sen rand paul rky dont expect mcconnell campaign trail favors homestate colleague im going supporting rand paul knows beyond that wont involved presidential politics ive here said'"
      ]
     },
     "execution_count": 20,
     "metadata": {},
     "output_type": "execute_result"
    }
   ],
   "source": [
    "\n",
    "import re\n",
    "import nltk\n",
    "from nltk.corpus import stopwords\n",
    "stop = stopwords.words('english')\n",
    "only_text = only_text.apply(lambda x: ' '.join([word for word in x.split() if word not in (stop)]))\n",
    "\n",
    "a = []\n",
    "b=[]\n",
    "new_string = []\n",
    "for i in only_text:\n",
    "    #b =re.sub(p, '', i)    \n",
    "    b = ' '.join([w for w in i.split() if len(w)<15])\n",
    "    b = ' '.join([w for w in b.split() if len(w)>3])\n",
    "    a.append(b)\n",
    "\n",
    "\n",
    "    \n",
    "only_text_pd = pd.DataFrame({'text':a})\n",
    "only_text_se = only_text_pd['text']\n",
    "only_text_se= only_text_se.str.replace('[^a-z \\n]',\"\")\n",
    "only_text_se = only_text_se.str.replace('fake|real', \"\")\n",
    "\n",
    "only_text_se[23] #processed text"
   ]
  },
  {
   "cell_type": "code",
   "execution_count": 21,
   "metadata": {},
   "outputs": [
    {
     "data": {
      "text/plain": [
       "'new senate majority leader’s main goal gop: don’t scary mitch mcconnell unusual admonition new republican majority takes senate week: don’t “scary.” incoming senate majority leader set political goal next two years overseeing functioning, reasonable majority capitol hill scores measured conservative wins, particularly environmental regulations, probably big victories full repeal health-care law. mcconnell’s priority set stage potential gop presidential victory 2016. “i don’t want american people think add republican president republican congress, that’s going scary outcome. want american people comfortable fact republican house senate responsible, right-of-center, governing majority,” kentucky republican said broad interview christmas capitol office. it’s far cry defiant declaration 2010 “single important” goal make president obama one-term president, antagonizing oath democrats frequently invoke embarrass gop leader — obama reelection comfortably 2012, mcconnell’s party lost seats. charge ends capitol, republicans aim avoid worst excesses past four years make sure public isn’t fearful gop’s course. “there would nothing frightening adding republican president governing majority,” mcconnell said, explaining wants voters view party eve 2016 election. “i think that’s single best thing do, mess playing field, will, whoever nominee ultimately is.” mcconnell, become majority leader tuesday, planning avoid conflict altogether. wants use annual spending bills compel obama accept conservative policy riders divide democrats, similar december spending bill’s inclusion provision benefiting wall street firms involved risky derivative trades. rider brought liberal outcry end torpedoing bill, obama’s support. mcconnell coaching members understand that, initial rounds, almost unanimously support budget outline spending bills, democrats support policy riders. 54 republicans caucus, mcconnell knows he’s long way getting 67 votes override obama veto won’t even easy getting six democrats regularly support legislation overcome likely filibusters led incoming minority leader, sen. harry m. reid (d-nev.). still, issues, energy taxes health industry, mcconnell thinks there’s enough bipartisan support get bills onto obama’s desk. “they’d like relevant. they’d like part process,” said discussions rank-and-file democrats. “assuming issues largely unified conference — don’t expect everything — wouldn’t take whole lot democrats actually pass legislation senate.” mcconnell said “craving grand deal way measure next two years” lower expectations. he’s skeptical bargains democrats tough issues immigration entitlement reform. instead, believes three issues potential common ground: international trade deals, overhaul tax code new revenue streams infrastructure projects. “could country use lot more? bet. there’s way overcome reluctant president something really large,” mcconnell said. best bigger issues force obama break veto pen clear set democratic policy stances republicans campaign 2016. democrats dubious mcconnell’s pledge avert edge-of-the-cliff moments. believe run problems bedeviled house speaker john a. boehner (r-ohio) past four years — including inability corral rabble-rousers sen. ted cruz (r-tex.) support agenda conservative critics probably view bold enough challenging obama. appeasing far-right conservatives lead agenda democrats hope exploit 2016. “what senator mcconnell wants people think think see results two different things,” said reid’s spokesman, adam jentleson. “senator mcconnell heads caucus obsessed rigging game working people favor wealthy special interests. that’s scary fact indeed, won’t able hide it.” mcconnell’s office adorned portrait kentucky’s senate majority leader — alben w. barkley, whose tenure often marked clashes party’s president, franklin d. roosevelt — model resembles george mitchell, democratic majority leader 1989 1994. without ever shutting government, mitchell stared president opposite party, george h.w. bush, several liberal victories 1990 budget showdown. mitchell also delivered slew legislation bush’s desk drew veto, helping frame debate 1992 election domestic policy. mcconnell recently studied two-term presidents often vetoed legislation last two years office. obama issued two minor vetoes technical matters, largely previously democratic-run senate prevented anything reaching desk opposed. mcconnell suggested veto strategy would help clarify issues voters. “i think bureaucracy across board done lot damage country. . . . i’d least like personally take responsibility it, even end decides veto bill restriction epa regulations.” mcconnell keenly aware challenges reining impulses fellow republican lawmakers developed eight straight years minority. first test come energy debate, could begin end week. mcconnell trying keep side offering amendments related energy issues. recent years, rank-and-file republicans wanted stop senate tracks, would threaten amendments related congress gets health care. “i’ve asked members restrain themselves,” said. restraint hard come political era, particularly small army conservative groups made mission push republicans strident stands, even means shutting government risking default national debt. mcconnell faced groups firsthand supported 2014 primary challenger, faced grinding general election democrat well financed. cost nearly $30 million campaign war chest tens millions dollars outside groups. winning races handily, mcconnell delivering message republicans behave heading 2016. “don’t try reinvent yourself. yourself, number one. don’t afraid primary. win primaries. ’14. ’16,” mcconnell said. shortly election day fall, mcconnell sat obama rare one-on-one meeting oval office, huddle sides kept largely secret. pre-christmas interview, mcconnell acknowledged meeting’s purpose discuss areas president republicans might find bipartisan agreement — disagreements issues in\\xadtrac\\xadtable. meeting, said, focused trade deals, tax code overhaul infrastructure funding. “can get tax reform, trade, infrastructure?” said. eschewed idea holding debt ceiling hostage gain spending-cut concessions obama, tool republicans use minority. “we majority. pass budget. determine much we’re going spend,” said. avoiding moments could make less “scary” congress, giving republicans better chance 2016 hit trifecta gain white house. horse already chosen, sen. rand paul (r-ky.), don’t expect mcconnell campaign trail favors home-state colleague. “i’m going supporting rand paul. knows beyond that, won’t involved presidential politics. i’ve got big job here,” said.'"
      ]
     },
     "execution_count": 21,
     "metadata": {},
     "output_type": "execute_result"
    }
   ],
   "source": [
    "only_text[23]"
   ]
  },
  {
   "cell_type": "code",
   "execution_count": 22,
   "metadata": {},
   "outputs": [
    {
     "name": "stdout",
     "output_type": "stream",
     "text": [
      "(4751,)\n",
      "(1584,)\n",
      "(4751,)\n",
      "(1584,)\n"
     ]
    }
   ],
   "source": [
    "\n",
    "X= only_text_se\n",
    "y= df['label']\n",
    "\n",
    "from sklearn.model_selection import train_test_split\n",
    "X_train, X_test, y_train, y_test = train_test_split(X, y, random_state=1)\n",
    "print(X_train.shape)\n",
    "print(X_test.shape)\n",
    "print(y_train.shape)\n",
    "print(y_test.shape)"
   ]
  },
  {
   "cell_type": "code",
   "execution_count": 23,
   "metadata": {},
   "outputs": [],
   "source": [
    "\n",
    "from sklearn.feature_extraction.text import CountVectorizer\n",
    "from sklearn.feature_extraction.text import TfidfVectorizer\n",
    "\n",
    "vect = CountVectorizer(stop_words='english',max_df=.3)"
   ]
  },
  {
   "cell_type": "code",
   "execution_count": 24,
   "metadata": {},
   "outputs": [
    {
     "data": {
      "text/plain": [
       "<4751x65285 sparse matrix of type '<class 'numpy.int64'>'\n",
       "\twith 1126936 stored elements in Compressed Sparse Row format>"
      ]
     },
     "execution_count": 24,
     "metadata": {},
     "output_type": "execute_result"
    }
   ],
   "source": [
    "\n",
    "X_train_dtm = vect.fit_transform(X_train)\n",
    "X_train_dtm"
   ]
  },
  {
   "cell_type": "code",
   "execution_count": 25,
   "metadata": {},
   "outputs": [
    {
     "data": {
      "text/plain": [
       "<1584x65285 sparse matrix of type '<class 'numpy.int64'>'\n",
       "\twith 369555 stored elements in Compressed Sparse Row format>"
      ]
     },
     "execution_count": 25,
     "metadata": {},
     "output_type": "execute_result"
    }
   ],
   "source": [
    "\n",
    "X_test_dtm = vect.transform(X_test)\n",
    "X_test_dtm"
   ]
  },
  {
   "cell_type": "markdown",
   "metadata": {},
   "source": [
    "### Naive Bayes"
   ]
  },
  {
   "cell_type": "code",
   "execution_count": 26,
   "metadata": {},
   "outputs": [],
   "source": [
    "from sklearn.naive_bayes import MultinomialNB\n",
    "nb = MultinomialNB()\n",
    "\n",
    "nb.fit(X_train_dtm, y_train)\n",
    "y_pred_class_test = nb.predict(X_test_dtm)\n",
    "y_pred_class_train = nb.predict(X_train_dtm)"
   ]
  },
  {
   "cell_type": "code",
   "execution_count": 27,
   "metadata": {},
   "outputs": [
    {
     "data": {
      "text/plain": [
       "array([1, 0, 0, ..., 1, 1, 1], dtype=int64)"
      ]
     },
     "execution_count": 27,
     "metadata": {},
     "output_type": "execute_result"
    }
   ],
   "source": [
    "nb.predict(X_test_dtm)"
   ]
  },
  {
   "cell_type": "code",
   "execution_count": 28,
   "metadata": {
    "scrolled": true
   },
   "outputs": [
    {
     "data": {
      "text/plain": [
       "'announces troop deployment near russias borders military british defense secretary michael fallon photo afp british defense minister michael fallon says deploy hundreds troops baltic region europe support nato allies face more assertive russia fallon told nato ministerial meeting brussels wednesday britain would send soldiers estonia fulfill pledge deliver four battalions natos enhanced forward presence eastern europe backed rising defense budget deployment air land forces shows continue play leading role nato supporting defense security allies north south alliance fallon said nato announced july would deploy rotational basis four multinational battalions poland baltic latvia lithuaniato deter referred any russian incursion address meeting fallon also said four british typhoon fighter jets would dispatched romania nato southern policing mission supposed protect baltic states airspace possible attacks russia this things reassurance needs done formidable presence deterrence fallon said earlier interview this simply serious military presence move likely draw criticism moscow angered natos military buildup western borders usled military alliance ties moscow  reinforcing presence near russias borders ever since russia strong disagreements number issues mainly conflicts syria ukraine countries military forces involved series aerial naval britain sending jets warships several occasions intercept russian bombers naval fleets latest encounters occurred thursday russian aircraft career admiral kuznetsov sevenship task force shadowed british warships course sail north english channel syria loading'"
      ]
     },
     "execution_count": 28,
     "metadata": {},
     "output_type": "execute_result"
    }
   ],
   "source": [
    "X_test.iloc[1]"
   ]
  },
  {
   "cell_type": "code",
   "execution_count": 29,
   "metadata": {},
   "outputs": [
    {
     "name": "stdout",
     "output_type": "stream",
     "text": [
      "0.8869949494949495\n",
      "0.9444327509997895\n"
     ]
    }
   ],
   "source": [
    "\n",
    "from sklearn import metrics\n",
    "print(metrics.accuracy_score(y_test, y_pred_class_test))\n",
    "print(metrics.accuracy_score(y_train, y_pred_class_train))"
   ]
  },
  {
   "cell_type": "code",
   "execution_count": 30,
   "metadata": {},
   "outputs": [],
   "source": [
    "\n",
    "from sklearn.metrics import confusion_matrix\n",
    "m = metrics.confusion_matrix(y_test, y_pred_class_test)\n"
   ]
  },
  {
   "cell_type": "code",
   "execution_count": 31,
   "metadata": {},
   "outputs": [
    {
     "data": {
      "text/plain": [
       "<matplotlib.axes._subplots.AxesSubplot at 0x28fb752f0f0>"
      ]
     },
     "execution_count": 31,
     "metadata": {},
     "output_type": "execute_result"
    },
    {
     "data": {
      "image/png": "[encoded data removed]",
      "text/plain": [
       "<Figure size 432x288 with 2 Axes>"
      ]
     },
     "metadata": {},
     "output_type": "display_data"
    }
   ],
   "source": [
    "import seaborn as sns\n",
    "import matplotlib\n",
    "%matplotlib inline\n",
    "cm = metrics.confusion_matrix(y_test, y_pred_class_test)\n",
    "sns.set(font_scale=1.4)\n",
    "sns.heatmap(cm,annot=True,annot_kws={\"size\": 16})"
   ]
  },
  {
   "cell_type": "code",
   "execution_count": 32,
   "metadata": {},
   "outputs": [
    {
     "data": {
      "text/plain": [
       "0    817\n",
       "1    767\n",
       "Name: label, dtype: int64"
      ]
     },
     "execution_count": 32,
     "metadata": {},
     "output_type": "execute_result"
    }
   ],
   "source": [
    "\n",
    "y_test.value_counts()"
   ]
  },
  {
   "cell_type": "code",
   "execution_count": 33,
   "metadata": {},
   "outputs": [
    {
     "data": {
      "text/plain": [
       "65285"
      ]
     },
     "execution_count": 33,
     "metadata": {},
     "output_type": "execute_result"
    }
   ],
   "source": [
    "\n",
    "X_train_tokens = vect.get_feature_names()\n",
    "len(X_train_tokens)"
   ]
  },
  {
   "cell_type": "code",
   "execution_count": 34,
   "metadata": {},
   "outputs": [
    {
     "name": "stdout",
     "output_type": "stream",
     "text": [
      "['aa', 'aaaa', 'aaas', 'aab', 'aachen', 'aadhar', 'aadmi', 'aae', 'aaiball', 'aakar', 'aakhri', 'aalia', 'aaliya', 'aaliyas', 'aall', 'aamaq', 'aamon', 'aap', 'aapke', 'aapko', 'aapne', 'aarhus', 'aaron', 'aarons', 'aaronson', 'aaronsons', 'aarp', 'aart', 'aas', 'aaso', 'aata', 'aauw', 'aauws', 'aaye', 'aayush', 'ab', 'abaaoud', 'abaaouds', 'ababa', 'aback', 'abad', 'abadi', 'abadis', 'abaldo', 'aban', 'abandon', 'abandoned', 'abandonedover', 'abandoning', 'abandonment']\n"
     ]
    }
   ],
   "source": [
    "\n",
    "print(X_train_tokens[0:50])"
   ]
  },
  {
   "cell_type": "code",
   "execution_count": 35,
   "metadata": {},
   "outputs": [
    {
     "name": "stdout",
     "output_type": "stream",
     "text": [
      "(2, 65285)\n",
      "[[3. 1. 1. ... 1. 0. 2.]\n",
      " [0. 0. 0. ... 0. 3. 0.]]\n",
      "[3. 1. 1. ... 1. 0. 2.]\n"
     ]
    }
   ],
   "source": [
    "print(nb.feature_count_.shape)\n",
    "print(nb.feature_count_)\n",
    "fake_token_count = nb.feature_count_[0, :]\n",
    "print(fake_token_count)"
   ]
  },
  {
   "cell_type": "code",
   "execution_count": 36,
   "metadata": {},
   "outputs": [
    {
     "data": {
      "text/plain": [
       "array([0., 0., 0., ..., 0., 3., 0.])"
      ]
     },
     "execution_count": 36,
     "metadata": {},
     "output_type": "execute_result"
    }
   ],
   "source": [
    "# number of times each token appears across all real articles\n",
    "real_token_count = nb.feature_count_[1, :]\n",
    "real_token_count"
   ]
  },
  {
   "cell_type": "code",
   "execution_count": 37,
   "metadata": {},
   "outputs": [],
   "source": [
    "# create a DataFrame of tokens with their separate real and fake counts\n",
    "tokens = pd.DataFrame({'token':X_train_tokens, 'real':real_token_count, 'fake':fake_token_count}).set_index('token')"
   ]
  },
  {
   "cell_type": "code",
   "execution_count": 38,
   "metadata": {},
   "outputs": [
    {
     "data": {
      "text/html": [
       "<div>\n",
       "<style scoped>\n",
       "    .dataframe tbody tr th:only-of-type {\n",
       "        vertical-align: middle;\n",
       "    }\n",
       "\n",
       "    .dataframe tbody tr th {\n",
       "        vertical-align: top;\n",
       "    }\n",
       "\n",
       "    .dataframe thead th {\n",
       "        text-align: right;\n",
       "    }\n",
       "</style>\n",
       "<table border=\"1\" class=\"dataframe\">\n",
       "  <thead>\n",
       "    <tr style=\"text-align: right;\">\n",
       "      <th></th>\n",
       "      <th>real</th>\n",
       "    </tr>\n",
       "    <tr>\n",
       "      <th>token</th>\n",
       "      <th></th>\n",
       "    </tr>\n",
       "  </thead>\n",
       "  <tbody>\n",
       "    <tr>\n",
       "      <th>obama</th>\n",
       "      <td>3558.0</td>\n",
       "    </tr>\n",
       "    <tr>\n",
       "      <th>party</th>\n",
       "      <td>2756.0</td>\n",
       "    </tr>\n",
       "    <tr>\n",
       "      <th>house</th>\n",
       "      <td>2736.0</td>\n",
       "    </tr>\n",
       "    <tr>\n",
       "      <th>sanders</th>\n",
       "      <td>2648.0</td>\n",
       "    </tr>\n",
       "    <tr>\n",
       "      <th>percent</th>\n",
       "      <td>2611.0</td>\n",
       "    </tr>\n",
       "  </tbody>\n",
       "</table>\n",
       "</div>"
      ],
      "text/plain": [
       "           real\n",
       "token          \n",
       "obama    3558.0\n",
       "party    2756.0\n",
       "house    2736.0\n",
       "sanders  2648.0\n",
       "percent  2611.0"
      ]
     },
     "execution_count": 38,
     "metadata": {},
     "output_type": "execute_result"
    }
   ],
   "source": [
    "freq_real = tokens.sort_values(by='real', ascending = False)\n",
    "freq_real = freq_real.drop('fake',1)\n",
    "freq_real.head()"
   ]
  },
  {
   "cell_type": "code",
   "execution_count": 39,
   "metadata": {},
   "outputs": [
    {
     "data": {
      "text/html": [
       "<div>\n",
       "<style scoped>\n",
       "    .dataframe tbody tr th:only-of-type {\n",
       "        vertical-align: middle;\n",
       "    }\n",
       "\n",
       "    .dataframe tbody tr th {\n",
       "        vertical-align: top;\n",
       "    }\n",
       "\n",
       "    .dataframe thead th {\n",
       "        text-align: right;\n",
       "    }\n",
       "</style>\n",
       "<table border=\"1\" class=\"dataframe\">\n",
       "  <thead>\n",
       "    <tr style=\"text-align: right;\">\n",
       "      <th></th>\n",
       "      <th>fake</th>\n",
       "    </tr>\n",
       "    <tr>\n",
       "      <th>token</th>\n",
       "      <th></th>\n",
       "    </tr>\n",
       "  </thead>\n",
       "  <tbody>\n",
       "    <tr>\n",
       "      <th>world</th>\n",
       "      <td>2234.0</td>\n",
       "    </tr>\n",
       "    <tr>\n",
       "      <th>government</th>\n",
       "      <td>1984.0</td>\n",
       "    </tr>\n",
       "    <tr>\n",
       "      <th>obama</th>\n",
       "      <td>1526.0</td>\n",
       "    </tr>\n",
       "    <tr>\n",
       "      <th>russia</th>\n",
       "      <td>1432.0</td>\n",
       "    </tr>\n",
       "    <tr>\n",
       "      <th>united</th>\n",
       "      <td>1353.0</td>\n",
       "    </tr>\n",
       "  </tbody>\n",
       "</table>\n",
       "</div>"
      ],
      "text/plain": [
       "              fake\n",
       "token             \n",
       "world       2234.0\n",
       "government  1984.0\n",
       "obama       1526.0\n",
       "russia      1432.0\n",
       "united      1353.0"
      ]
     },
     "execution_count": 39,
     "metadata": {},
     "output_type": "execute_result"
    }
   ],
   "source": [
    "freq_fake = tokens.sort_values(by='fake', ascending = False)\n",
    "freq_fake = freq_fake.drop('real',1)\n",
    "freq_fake = freq_fake.drop(freq_fake.index[[3]])\n",
    "freq_fake.head()\n",
    "\n"
   ]
  },
  {
   "cell_type": "code",
   "execution_count": 40,
   "metadata": {},
   "outputs": [
    {
     "data": {
      "text/plain": [
       "array([2347., 2404.])"
      ]
     },
     "execution_count": 40,
     "metadata": {},
     "output_type": "execute_result"
    }
   ],
   "source": [
    "# Naive Bayes counts the number of observations in each class\n",
    "nb.class_count_"
   ]
  },
  {
   "cell_type": "code",
   "execution_count": 41,
   "metadata": {
    "scrolled": true
   },
   "outputs": [
    {
     "data": {
      "text/html": [
       "<div>\n",
       "<style scoped>\n",
       "    .dataframe tbody tr th:only-of-type {\n",
       "        vertical-align: middle;\n",
       "    }\n",
       "\n",
       "    .dataframe tbody tr th {\n",
       "        vertical-align: top;\n",
       "    }\n",
       "\n",
       "    .dataframe thead th {\n",
       "        text-align: right;\n",
       "    }\n",
       "</style>\n",
       "<table border=\"1\" class=\"dataframe\">\n",
       "  <thead>\n",
       "    <tr style=\"text-align: right;\">\n",
       "      <th></th>\n",
       "      <th>real</th>\n",
       "      <th>fake</th>\n",
       "    </tr>\n",
       "    <tr>\n",
       "      <th>token</th>\n",
       "      <th></th>\n",
       "      <th></th>\n",
       "    </tr>\n",
       "  </thead>\n",
       "  <tbody>\n",
       "    <tr>\n",
       "      <th>anytime</th>\n",
       "      <td>31.0</td>\n",
       "      <td>7.0</td>\n",
       "    </tr>\n",
       "    <tr>\n",
       "      <th>magnification</th>\n",
       "      <td>1.0</td>\n",
       "      <td>2.0</td>\n",
       "    </tr>\n",
       "    <tr>\n",
       "      <th>honored</th>\n",
       "      <td>30.0</td>\n",
       "      <td>15.0</td>\n",
       "    </tr>\n",
       "    <tr>\n",
       "      <th>misguidedly</th>\n",
       "      <td>2.0</td>\n",
       "      <td>1.0</td>\n",
       "    </tr>\n",
       "    <tr>\n",
       "      <th>repent</th>\n",
       "      <td>2.0</td>\n",
       "      <td>3.0</td>\n",
       "    </tr>\n",
       "  </tbody>\n",
       "</table>\n",
       "</div>"
      ],
      "text/plain": [
       "               real  fake\n",
       "token                    \n",
       "anytime        31.0   7.0\n",
       "magnification   1.0   2.0\n",
       "honored        30.0  15.0\n",
       "misguidedly     2.0   1.0\n",
       "repent          2.0   3.0"
      ]
     },
     "execution_count": 41,
     "metadata": {},
     "output_type": "execute_result"
    }
   ],
   "source": [
    "\n",
    "tokens['real'] = tokens.real + 1\n",
    "tokens['fake'] = tokens.fake + 1\n",
    "tokens.sample(5, random_state=6)"
   ]
  },
  {
   "cell_type": "code",
   "execution_count": 42,
   "metadata": {},
   "outputs": [
    {
     "data": {
      "text/html": [
       "<div>\n",
       "<style scoped>\n",
       "    .dataframe tbody tr th:only-of-type {\n",
       "        vertical-align: middle;\n",
       "    }\n",
       "\n",
       "    .dataframe tbody tr th {\n",
       "        vertical-align: top;\n",
       "    }\n",
       "\n",
       "    .dataframe thead th {\n",
       "        text-align: right;\n",
       "    }\n",
       "</style>\n",
       "<table border=\"1\" class=\"dataframe\">\n",
       "  <thead>\n",
       "    <tr style=\"text-align: right;\">\n",
       "      <th></th>\n",
       "      <th>real</th>\n",
       "      <th>fake</th>\n",
       "    </tr>\n",
       "    <tr>\n",
       "      <th>token</th>\n",
       "      <th></th>\n",
       "      <th></th>\n",
       "    </tr>\n",
       "  </thead>\n",
       "  <tbody>\n",
       "    <tr>\n",
       "      <th>anytime</th>\n",
       "      <td>0.013208</td>\n",
       "      <td>0.002912</td>\n",
       "    </tr>\n",
       "    <tr>\n",
       "      <th>magnification</th>\n",
       "      <td>0.000426</td>\n",
       "      <td>0.000832</td>\n",
       "    </tr>\n",
       "    <tr>\n",
       "      <th>honored</th>\n",
       "      <td>0.012782</td>\n",
       "      <td>0.006240</td>\n",
       "    </tr>\n",
       "    <tr>\n",
       "      <th>misguidedly</th>\n",
       "      <td>0.000852</td>\n",
       "      <td>0.000416</td>\n",
       "    </tr>\n",
       "    <tr>\n",
       "      <th>repent</th>\n",
       "      <td>0.000852</td>\n",
       "      <td>0.001248</td>\n",
       "    </tr>\n",
       "  </tbody>\n",
       "</table>\n",
       "</div>"
      ],
      "text/plain": [
       "                   real      fake\n",
       "token                            \n",
       "anytime        0.013208  0.002912\n",
       "magnification  0.000426  0.000832\n",
       "honored        0.012782  0.006240\n",
       "misguidedly    0.000852  0.000416\n",
       "repent         0.000852  0.001248"
      ]
     },
     "execution_count": 42,
     "metadata": {},
     "output_type": "execute_result"
    }
   ],
   "source": [
    "\n",
    "tokens['real'] = tokens.real / nb.class_count_[0]\n",
    "tokens['fake'] = tokens.fake / nb.class_count_[1]\n",
    "tokens.sample(5, random_state=6)"
   ]
  },
  {
   "cell_type": "code",
   "execution_count": 43,
   "metadata": {},
   "outputs": [
    {
     "data": {
      "text/html": [
       "<div>\n",
       "<style scoped>\n",
       "    .dataframe tbody tr th:only-of-type {\n",
       "        vertical-align: middle;\n",
       "    }\n",
       "\n",
       "    .dataframe tbody tr th {\n",
       "        vertical-align: top;\n",
       "    }\n",
       "\n",
       "    .dataframe thead th {\n",
       "        text-align: right;\n",
       "    }\n",
       "</style>\n",
       "<table border=\"1\" class=\"dataframe\">\n",
       "  <thead>\n",
       "    <tr style=\"text-align: right;\">\n",
       "      <th></th>\n",
       "      <th>real</th>\n",
       "      <th>fake</th>\n",
       "      <th>fake_ratio</th>\n",
       "    </tr>\n",
       "    <tr>\n",
       "      <th>token</th>\n",
       "      <th></th>\n",
       "      <th></th>\n",
       "      <th></th>\n",
       "    </tr>\n",
       "  </thead>\n",
       "  <tbody>\n",
       "    <tr>\n",
       "      <th>anytime</th>\n",
       "      <td>0.013208</td>\n",
       "      <td>0.002912</td>\n",
       "      <td>0.220452</td>\n",
       "    </tr>\n",
       "    <tr>\n",
       "      <th>magnification</th>\n",
       "      <td>0.000426</td>\n",
       "      <td>0.000832</td>\n",
       "      <td>1.952579</td>\n",
       "    </tr>\n",
       "    <tr>\n",
       "      <th>honored</th>\n",
       "      <td>0.012782</td>\n",
       "      <td>0.006240</td>\n",
       "      <td>0.488145</td>\n",
       "    </tr>\n",
       "    <tr>\n",
       "      <th>misguidedly</th>\n",
       "      <td>0.000852</td>\n",
       "      <td>0.000416</td>\n",
       "      <td>0.488145</td>\n",
       "    </tr>\n",
       "    <tr>\n",
       "      <th>repent</th>\n",
       "      <td>0.000852</td>\n",
       "      <td>0.001248</td>\n",
       "      <td>1.464434</td>\n",
       "    </tr>\n",
       "  </tbody>\n",
       "</table>\n",
       "</div>"
      ],
      "text/plain": [
       "                   real      fake  fake_ratio\n",
       "token                                        \n",
       "anytime        0.013208  0.002912    0.220452\n",
       "magnification  0.000426  0.000832    1.952579\n",
       "honored        0.012782  0.006240    0.488145\n",
       "misguidedly    0.000852  0.000416    0.488145\n",
       "repent         0.000852  0.001248    1.464434"
      ]
     },
     "execution_count": 43,
     "metadata": {},
     "output_type": "execute_result"
    }
   ],
   "source": [
    "# calculate the ratio of fake to real for each token\n",
    "tokens['fake_ratio'] = tokens.fake / tokens.real\n",
    "tokens.sample(5, random_state=6)"
   ]
  },
  {
   "cell_type": "code",
   "execution_count": 44,
   "metadata": {},
   "outputs": [
    {
     "data": {
      "text/html": [
       "<div>\n",
       "<style scoped>\n",
       "    .dataframe tbody tr th:only-of-type {\n",
       "        vertical-align: middle;\n",
       "    }\n",
       "\n",
       "    .dataframe tbody tr th {\n",
       "        vertical-align: top;\n",
       "    }\n",
       "\n",
       "    .dataframe thead th {\n",
       "        text-align: right;\n",
       "    }\n",
       "</style>\n",
       "<table border=\"1\" class=\"dataframe\">\n",
       "  <thead>\n",
       "    <tr style=\"text-align: right;\">\n",
       "      <th></th>\n",
       "      <th>real</th>\n",
       "      <th>fake</th>\n",
       "      <th>fake_ratio</th>\n",
       "      <th>real_ratio</th>\n",
       "    </tr>\n",
       "    <tr>\n",
       "      <th>token</th>\n",
       "      <th></th>\n",
       "      <th></th>\n",
       "      <th></th>\n",
       "      <th></th>\n",
       "    </tr>\n",
       "  </thead>\n",
       "  <tbody>\n",
       "    <tr>\n",
       "      <th>anytime</th>\n",
       "      <td>0.013208</td>\n",
       "      <td>0.002912</td>\n",
       "      <td>0.220452</td>\n",
       "      <td>4.536125</td>\n",
       "    </tr>\n",
       "    <tr>\n",
       "      <th>magnification</th>\n",
       "      <td>0.000426</td>\n",
       "      <td>0.000832</td>\n",
       "      <td>1.952579</td>\n",
       "      <td>0.512143</td>\n",
       "    </tr>\n",
       "    <tr>\n",
       "      <th>honored</th>\n",
       "      <td>0.012782</td>\n",
       "      <td>0.006240</td>\n",
       "      <td>0.488145</td>\n",
       "      <td>2.048573</td>\n",
       "    </tr>\n",
       "    <tr>\n",
       "      <th>misguidedly</th>\n",
       "      <td>0.000852</td>\n",
       "      <td>0.000416</td>\n",
       "      <td>0.488145</td>\n",
       "      <td>2.048573</td>\n",
       "    </tr>\n",
       "    <tr>\n",
       "      <th>repent</th>\n",
       "      <td>0.000852</td>\n",
       "      <td>0.001248</td>\n",
       "      <td>1.464434</td>\n",
       "      <td>0.682858</td>\n",
       "    </tr>\n",
       "  </tbody>\n",
       "</table>\n",
       "</div>"
      ],
      "text/plain": [
       "                   real      fake  fake_ratio  real_ratio\n",
       "token                                                    \n",
       "anytime        0.013208  0.002912    0.220452    4.536125\n",
       "magnification  0.000426  0.000832    1.952579    0.512143\n",
       "honored        0.012782  0.006240    0.488145    2.048573\n",
       "misguidedly    0.000852  0.000416    0.488145    2.048573\n",
       "repent         0.000852  0.001248    1.464434    0.682858"
      ]
     },
     "execution_count": 44,
     "metadata": {},
     "output_type": "execute_result"
    }
   ],
   "source": [
    "\n",
    "tokens['real_ratio'] = tokens.real / tokens.fake\n",
    "tokens.sample(5, random_state=6)"
   ]
  },
  {
   "cell_type": "code",
   "execution_count": 45,
   "metadata": {
    "scrolled": true
   },
   "outputs": [],
   "source": [
    "\n",
    "tokens_real = tokens.sort_values('real_ratio', ascending=False).head(5)"
   ]
  },
  {
   "cell_type": "code",
   "execution_count": 46,
   "metadata": {},
   "outputs": [
    {
     "data": {
      "text/html": [
       "<div>\n",
       "<style scoped>\n",
       "    .dataframe tbody tr th:only-of-type {\n",
       "        vertical-align: middle;\n",
       "    }\n",
       "\n",
       "    .dataframe tbody tr th {\n",
       "        vertical-align: top;\n",
       "    }\n",
       "\n",
       "    .dataframe thead th {\n",
       "        text-align: right;\n",
       "    }\n",
       "</style>\n",
       "<table border=\"1\" class=\"dataframe\">\n",
       "  <thead>\n",
       "    <tr style=\"text-align: right;\">\n",
       "      <th></th>\n",
       "      <th>real</th>\n",
       "      <th>fake</th>\n",
       "      <th>fake_ratio</th>\n",
       "      <th>real_ratio</th>\n",
       "    </tr>\n",
       "    <tr>\n",
       "      <th>token</th>\n",
       "      <th></th>\n",
       "      <th></th>\n",
       "      <th></th>\n",
       "      <th></th>\n",
       "    </tr>\n",
       "  </thead>\n",
       "  <tbody>\n",
       "    <tr>\n",
       "      <th>fiorina</th>\n",
       "      <td>0.140179</td>\n",
       "      <td>0.000832</td>\n",
       "      <td>0.005935</td>\n",
       "      <td>168.495100</td>\n",
       "    </tr>\n",
       "    <tr>\n",
       "      <th>frontrunner</th>\n",
       "      <td>0.149979</td>\n",
       "      <td>0.001248</td>\n",
       "      <td>0.008321</td>\n",
       "      <td>120.182929</td>\n",
       "    </tr>\n",
       "    <tr>\n",
       "      <th>boehner</th>\n",
       "      <td>0.197273</td>\n",
       "      <td>0.001664</td>\n",
       "      <td>0.008434</td>\n",
       "      <td>118.561142</td>\n",
       "    </tr>\n",
       "    <tr>\n",
       "      <th>caucuses</th>\n",
       "      <td>0.127397</td>\n",
       "      <td>0.001248</td>\n",
       "      <td>0.009796</td>\n",
       "      <td>102.087204</td>\n",
       "    </tr>\n",
       "    <tr>\n",
       "      <th>lewandowski</th>\n",
       "      <td>0.040051</td>\n",
       "      <td>0.000416</td>\n",
       "      <td>0.010386</td>\n",
       "      <td>96.282914</td>\n",
       "    </tr>\n",
       "  </tbody>\n",
       "</table>\n",
       "</div>"
      ],
      "text/plain": [
       "                 real      fake  fake_ratio  real_ratio\n",
       "token                                                  \n",
       "fiorina      0.140179  0.000832    0.005935  168.495100\n",
       "frontrunner  0.149979  0.001248    0.008321  120.182929\n",
       "boehner      0.197273  0.001664    0.008434  118.561142\n",
       "caucuses     0.127397  0.001248    0.009796  102.087204\n",
       "lewandowski  0.040051  0.000416    0.010386   96.282914"
      ]
     },
     "execution_count": 46,
     "metadata": {},
     "output_type": "execute_result"
    }
   ],
   "source": [
    "tokens_real"
   ]
  },
  {
   "cell_type": "markdown",
   "metadata": {},
   "source": [
    "## Logistic Regression"
   ]
  },
  {
   "cell_type": "code",
   "execution_count": 47,
   "metadata": {},
   "outputs": [],
   "source": [
    "from sklearn.linear_model import LogisticRegression\n",
    "seed=12\n",
    "logreg = LogisticRegression(C=2, random_state=12, class_weight='balanced')"
   ]
  },
  {
   "cell_type": "code",
   "execution_count": 48,
   "metadata": {},
   "outputs": [
    {
     "name": "stderr",
     "output_type": "stream",
     "text": [
      "C:\\Users\\Arpit\\Anaconda3\\lib\\site-packages\\sklearn\\linear_model\\logistic.py:433: FutureWarning: Default solver will be changed to 'lbfgs' in 0.22. Specify a solver to silence this warning.\n",
      "  FutureWarning)\n"
     ]
    },
    {
     "data": {
      "text/plain": [
       "LogisticRegression(C=2, class_weight='balanced', dual=False,\n",
       "          fit_intercept=True, intercept_scaling=1, max_iter=100,\n",
       "          multi_class='warn', n_jobs=None, penalty='l2', random_state=12,\n",
       "          solver='warn', tol=0.0001, verbose=0, warm_start=False)"
      ]
     },
     "execution_count": 48,
     "metadata": {},
     "output_type": "execute_result"
    }
   ],
   "source": [
    "logreg.fit(X_train_dtm, y_train)"
   ]
  },
  {
   "cell_type": "code",
   "execution_count": 49,
   "metadata": {},
   "outputs": [],
   "source": [
    "y_log_pred_test = logreg.predict(X_test_dtm)\n",
    "y_log_pred_train = logreg.predict(X_train_dtm)"
   ]
  },
  {
   "cell_type": "code",
   "execution_count": 50,
   "metadata": {},
   "outputs": [
    {
     "data": {
      "text/plain": [
       "0.9065656565656566"
      ]
     },
     "execution_count": 50,
     "metadata": {},
     "output_type": "execute_result"
    }
   ],
   "source": [
    "metrics.accuracy_score(y_test, y_log_pred_test)\n"
   ]
  },
  {
   "cell_type": "code",
   "execution_count": 51,
   "metadata": {},
   "outputs": [
    {
     "data": {
      "text/plain": [
       "1.0"
      ]
     },
     "execution_count": 51,
     "metadata": {},
     "output_type": "execute_result"
    }
   ],
   "source": [
    "metrics.accuracy_score(y_train, y_log_pred_train)"
   ]
  },
  {
   "cell_type": "code",
   "execution_count": 52,
   "metadata": {},
   "outputs": [
    {
     "data": {
      "text/plain": [
       "array([[743,  74],\n",
       "       [ 74, 693]], dtype=int64)"
      ]
     },
     "execution_count": 52,
     "metadata": {},
     "output_type": "execute_result"
    }
   ],
   "source": [
    "# print the confusion matrix\n",
    "metrics.confusion_matrix(y_test, y_log_pred_test)"
   ]
  },
  {
   "cell_type": "markdown",
   "metadata": {},
   "source": [
    "## Random Forest"
   ]
  },
  {
   "cell_type": "code",
   "execution_count": 53,
   "metadata": {},
   "outputs": [
    {
     "data": {
      "text/plain": [
       "RandomForestClassifier(bootstrap=True, class_weight=None, criterion='gini',\n",
       "            max_depth=None, max_features='auto', max_leaf_nodes=None,\n",
       "            min_impurity_decrease=0.0, min_impurity_split=None,\n",
       "            min_samples_leaf=1, min_samples_split=2,\n",
       "            min_weight_fraction_leaf=0.0, n_estimators=25, n_jobs=None,\n",
       "            oob_score=False, random_state=None, verbose=0,\n",
       "            warm_start=False)"
      ]
     },
     "execution_count": 53,
     "metadata": {},
     "output_type": "execute_result"
    }
   ],
   "source": [
    "\n",
    "from sklearn.ensemble import RandomForestClassifier\n",
    "RF_clf = RandomForestClassifier(n_estimators=25)\n",
    "RF_clf.fit(X_train_dtm, y_train)"
   ]
  },
  {
   "cell_type": "code",
   "execution_count": 54,
   "metadata": {},
   "outputs": [],
   "source": [
    "\n",
    "RF_clf.fit(X_train_dtm, y_train)\n",
    "y_rf_pred_test = RF_clf.predict(X_test_dtm)\n",
    "y_rf_pred_train = RF_clf.predict(X_train_dtm)\n",
    "probs_rf = RF_clf.predict_proba(X_test_dtm)"
   ]
  },
  {
   "cell_type": "code",
   "execution_count": 55,
   "metadata": {},
   "outputs": [
    {
     "data": {
      "text/plain": [
       "array([[0.12, 0.88],\n",
       "       [0.64, 0.36],\n",
       "       [0.72, 0.28],\n",
       "       ...,\n",
       "       [0.56, 0.44],\n",
       "       [0.44, 0.56],\n",
       "       [0.28, 0.72]])"
      ]
     },
     "execution_count": 55,
     "metadata": {},
     "output_type": "execute_result"
    }
   ],
   "source": [
    "probs_rf = RF_clf.predict_proba(X_test_dtm) \n",
    "probs_rf"
   ]
  },
  {
   "cell_type": "code",
   "execution_count": 56,
   "metadata": {},
   "outputs": [],
   "source": [
    "probs = probs_rf[:,1]  "
   ]
  },
  {
   "cell_type": "code",
   "execution_count": 57,
   "metadata": {
    "scrolled": true
   },
   "outputs": [
    {
     "data": {
      "text/plain": [
       "array([1., 0., 0., ..., 0., 1., 1.])"
      ]
     },
     "execution_count": 57,
     "metadata": {},
     "output_type": "execute_result"
    }
   ],
   "source": [
    "probs[probs > 0.5] =1  \n",
    "probs[probs <= 0.5] = 0\n",
    "probs"
   ]
  },
  {
   "cell_type": "code",
   "execution_count": 58,
   "metadata": {},
   "outputs": [
    {
     "data": {
      "text/plain": [
       "0.8642676767676768"
      ]
     },
     "execution_count": 58,
     "metadata": {},
     "output_type": "execute_result"
    }
   ],
   "source": [
    "metrics.accuracy_score(y_test, probs)  "
   ]
  },
  {
   "cell_type": "code",
   "execution_count": 59,
   "metadata": {},
   "outputs": [
    {
     "data": {
      "text/plain": [
       "0.8642676767676768"
      ]
     },
     "execution_count": 59,
     "metadata": {},
     "output_type": "execute_result"
    }
   ],
   "source": [
    "#good accuracy on test data\n",
    "metrics.accuracy_score(y_test, y_rf_pred_test) "
   ]
  },
  {
   "cell_type": "code",
   "execution_count": 60,
   "metadata": {},
   "outputs": [
    {
     "data": {
      "text/plain": [
       "0.999368553988634"
      ]
     },
     "execution_count": 60,
     "metadata": {},
     "output_type": "execute_result"
    }
   ],
   "source": [
    "#overfitting on train dataa\n",
    "metrics.accuracy_score(y_train, y_rf_pred_train)\n"
   ]
  },
  {
   "cell_type": "code",
   "execution_count": 61,
   "metadata": {},
   "outputs": [
    {
     "name": "stdout",
     "output_type": "stream",
     "text": [
      "(3164, 2)\n",
      "(3171, 2)\n"
     ]
    },
    {
     "data": {
      "text/plain": [
       "label\n",
       "0    3164\n",
       "1    3171\n",
       "Name: text, dtype: int64"
      ]
     },
     "execution_count": 61,
     "metadata": {},
     "output_type": "execute_result"
    }
   ],
   "source": [
    "#for separating each category\n",
    "X= only_text_se\n",
    "y= df['label']\n",
    "\n",
    "\n",
    "Xy = pd.concat([X,y], axis=1)\n",
    "\n",
    "fake = Xy[Xy['text'].notnull() & (Xy['label'] == 0)]\n",
    "\n",
    "real = Xy[Xy['text'].notnull() & (Xy['label'] == 1)]\n",
    "\n",
    "\n",
    "print(fake.shape)\n",
    "print(real.shape)\n",
    "\n",
    "\n",
    "Xy.groupby(['label'])['text'].count()"
   ]
  },
  {
   "cell_type": "code",
   "execution_count": 62,
   "metadata": {},
   "outputs": [],
   "source": [
    "#exporting to form word cloud\n",
    "fake = fake[['text']]\n",
    "real = real[['text']]\n",
    "\n",
    "fake.to_csv('fake.txt', header=None, index=None, sep=' ', mode='a')\n",
    "real.to_csv('real.txt', header=None, index=None, sep=' ', mode='a')\n",
    "\n",
    "\n",
    "#importing the text format\n",
    "with open('fake.txt', 'r') as input_file:\n",
    "    fake = input_file.read()\n",
    "    \n",
    "with open('real.txt', 'r') as input_file:\n",
    "    real = input_file.read()\n",
    "    \n",
    "\n"
   ]
  }
 ],
 "metadata": {
  "anaconda-cloud": {},
  "kernelspec": {
   "display_name": "Python 3",
   "language": "python",
   "name": "python3"
  },
  "language_info": {
   "codemirror_mode": {
    "name": "ipython",
    "version": 3
   },
   "file_extension": ".py",
   "mimetype": "text/x-python",
   "name": "python",
   "nbconvert_exporter": "python",
   "pygments_lexer": "ipython3",
   "version": "3.7.1"
  }
 },
 "nbformat": 4,
 "nbformat_minor": 1
}
